{
 "cells": [
  {
   "cell_type": "code",
   "execution_count": 21,
   "metadata": {},
   "outputs": [
    {
     "name": "stdout",
     "output_type": "stream",
     "text": [
      "DIA Matrix data (diagonals):\n",
      "[[0.5 0.5 0.5 0.5 0.5 0. ]\n",
      " [0.5 0.5 0.5 0.5 0.5 0.5]\n",
      " [0.  1.5 1.5 1.5 1.5 1.5]]\n",
      "\n",
      "DIA Matrix offsets:\n",
      "[-1  0  1]\n",
      "\n",
      "Dense matrix:\n",
      "[[0.5 1.5 0.  0.  0.  0. ]\n",
      " [0.5 0.5 1.5 0.  0.  0. ]\n",
      " [0.  0.5 0.5 1.5 0.  0. ]\n",
      " [0.  0.  0.5 0.5 1.5 0. ]\n",
      " [0.  0.  0.  0.5 0.5 1.5]\n",
      " [0.  0.  0.  0.  0.5 0.5]]\n"
     ]
    }
   ],
   "source": [
    "import numpy as np\n",
    "from scipy.sparse import dia_matrix\n",
    "\n",
    "def construct_multidiagonal_matrix(v1, v2, C):\n",
    "    \"\"\"\n",
    "    Construct a multidiagonal sparse matrix where M[i,j] = abs(v1[i] - v2[j]) if abs(i-j) < C.\n",
    "    \n",
    "    Parameters:\n",
    "    v1, v2 (array-like): Input vectors (must be same length)\n",
    "    C (int): Bandwidth parameter controlling how many diagonals are non-zero\n",
    "    \n",
    "    Returns:\n",
    "    dia_matrix: The constructed sparse matrix in DIAgonal format\n",
    "    \"\"\"\n",
    "    n = len(v1)\n",
    "    assert len(v2) == n, \"v1 and v2 must have the same length\"\n",
    "    \n",
    "    offsets = np.arange(-C + 1, C)  # Diagonals from -C+1 to C-1\n",
    "    \n",
    "    data = []\n",
    "    for k in offsets:\n",
    "        # For diagonal k, compute valid indices\n",
    "        i_min = max(0, -k)\n",
    "        i_max = min(n, n - k)\n",
    "        diag_length = i_max - i_min\n",
    "        \n",
    "        # Compute the values for this diagonal\n",
    "        diag_values = np.abs(v1[i_min:i_max] - v2[i_min + k:i_max + k])\n",
    "        \n",
    "        # Pad to ensure the diagonal has length `n`\n",
    "        if k < 0:\n",
    "            # Lower diagonal: pad at the end\n",
    "            diag_values_padded = np.pad(diag_values, (0, n - diag_length), mode='constant')\n",
    "        else:\n",
    "            # Upper diagonal: pad at the beginning\n",
    "            diag_values_padded = np.pad(diag_values, (n - diag_length, 0), mode='constant')\n",
    "        \n",
    "        data.append(diag_values_padded)\n",
    "    \n",
    "    data = np.array(data)\n",
    "    return dia_matrix((data, offsets), shape=(n, n))\n",
    "\n",
    "# Test with your example\n",
    "v1 = np.array([1.0, 2.0, 3.0, 4.0, 5.0, 6.0])\n",
    "v2 = np.array([1.5, 2.5, 3.5, 4.5, 5.5, 6.5])\n",
    "C = 2\n",
    "\n",
    "M_sparse = construct_multidiagonal_matrix(v1, v2, C)\n",
    "\n",
    "print(\"DIA Matrix data (diagonals):\")\n",
    "print(M_sparse.data)\n",
    "\n",
    "print(\"\\nDIA Matrix offsets:\")\n",
    "print(M_sparse.offsets)\n",
    "\n",
    "print(\"\\nDense matrix:\")\n",
    "print(M_sparse.toarray())"
   ]
  },
  {
   "cell_type": "code",
   "execution_count": 38,
   "metadata": {},
   "outputs": [
    {
     "name": "stdout",
     "output_type": "stream",
     "text": [
      "(np.float64(477.2115842324547), array([0.22865932, 0.11946734, 0.65157539, ..., 0.23079947, 0.87111928,\n",
      "       0.76936016], shape=(8980,)))\n"
     ]
    }
   ],
   "source": [
    "import importlib\n",
    "import ot_sparse\n",
    "importlib.reload(ot_sparse) \n",
    "# print(dir(ot_sparse))\n",
    "v1 = np.random.rand(1000)\n",
    "v2 = np.random.rand(1000)\n",
    "C = 5  # Bandwidth\n",
    "M_sparse = construct_multidiagonal_matrix(v1, v2, C)\n",
    "\n",
    "# Uniform marginals\n",
    "a = np.ones(1000) / 1000\n",
    "b = np.ones(1000) / 1000\n",
    "\n",
    "# Parameters\n",
    "reg = 0\n",
    "reg_m1 = 0.1\n",
    "reg_m2 = 0.1\n",
    "\n",
    "# Initial guess (sparse representation)\n",
    "G0_flat = np.concatenate([np.ones(1000 - abs(k)) * 0.1 for k in M_sparse.offsets])\n",
    "\n",
    "# Get the loss function\n",
    "_func = ot_sparse.get_loss_unbalanced_sparse(a, b, None, M_sparse, reg, reg_m1, reg_m2)\n",
    "\n",
    "print(_func(G0_flat))"
   ]
  }
 ],
 "metadata": {
  "kernelspec": {
   "display_name": "wasserstein-_aRqSWpA-py3.12",
   "language": "python",
   "name": "python3"
  },
  "language_info": {
   "codemirror_mode": {
    "name": "ipython",
    "version": 3
   },
   "file_extension": ".py",
   "mimetype": "text/x-python",
   "name": "python",
   "nbconvert_exporter": "python",
   "pygments_lexer": "ipython3",
   "version": "3.12.7"
  }
 },
 "nbformat": 4,
 "nbformat_minor": 2
}
